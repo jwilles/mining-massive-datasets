{
 "cells": [
  {
   "cell_type": "code",
   "execution_count": 108,
   "metadata": {},
   "outputs": [],
   "source": [
    "import numpy as np\n",
    "import pandas as pd"
   ]
  },
  {
   "cell_type": "code",
   "execution_count": 109,
   "metadata": {},
   "outputs": [],
   "source": [
    "mat = np.matrix([[1,1,0,1,0,0,1,0], [0,1,1,1,0,0,0,0], [0,0,0,1,0,1,1,1]])"
   ]
  },
  {
   "cell_type": "code",
   "execution_count": 110,
   "metadata": {},
   "outputs": [],
   "source": [
    "def calc_jaccard_distance(col1, col2):\n",
    "    col1 = col1.astype(bool)\n",
    "    col2 = col2.astype(bool)\n",
    "    intersection = np.logical_and(col1, col2)\n",
    "    union = np.logical_or(col1, col2)\n",
    "    \n",
    "    if union.sum() == 0:\n",
    "        return 1\n",
    "    \n",
    "    return 1 - intersection.sum()/float(union.sum())"
   ]
  },
  {
   "cell_type": "code",
   "execution_count": 111,
   "metadata": {},
   "outputs": [],
   "source": [
    "def calc_min_cluster_distance(cluster1, cluster2):\n",
    "    min_distance = 1000\n",
    "    for k in cluster1:\n",
    "        for l in cluster2:\n",
    "            distance = jaccard_distances[k,l]\n",
    "            if distance < min_distance:\n",
    "                min_distance = distance\n",
    "    return min_distance"
   ]
  },
  {
   "cell_type": "code",
   "execution_count": 112,
   "metadata": {},
   "outputs": [],
   "source": [
    "def calc_hierarchical_clustering(num_clusters, distances):\n",
    "    clusters = [[x] for x in range(8)]\n",
    "    while len(clusters) > num_clusters:\n",
    "        min_distance = 10000\n",
    "        candidate_1 = 100\n",
    "        candidate_2 = 100\n",
    "        for i, cluster1 in enumerate(clusters):\n",
    "            for j, cluster2 in enumerate(clusters):\n",
    "                if i == j:\n",
    "                    continue\n",
    "                distance = calc_min_cluster_distance(cluster1, cluster2)\n",
    "                if (distance < min_distance):\n",
    "                    min_distance = distance\n",
    "                    candidate_1 = i\n",
    "                    candidate_2 = j\n",
    "                elif (distance == min_distance):\n",
    "                    curr_clusters_agg = clusters[i] + clusters[j]\n",
    "                    candidate_clusters_agg = clusters[candidate_1] + clusters[candidate_2]\n",
    "                    if min(curr_clusters_agg) < min(candidate_clusters_agg):\n",
    "                        candiate_1 = i\n",
    "                        candidate_2 = j\n",
    "                        \n",
    "        clusters[candidate_1] = clusters[candidate_1] + clusters[candidate_2]\n",
    "        clusters.pop(candidate_2)\n",
    "    return clusters\n",
    "                            \n",
    "                \n",
    "            \n",
    "            "
   ]
  },
  {
   "cell_type": "code",
   "execution_count": 113,
   "metadata": {
    "scrolled": false
   },
   "outputs": [],
   "source": [
    "m, n = mat.shape\n",
    "jaccard_distances = np.zeros((n,n))\n",
    "\n",
    "for i, col1 in enumerate(mat.T):\n",
    "    for j, col2 in enumerate(mat.T):\n",
    "        jaccard_distances[i, j] = calc_jaccard_distance(col1, col2)\n",
    "        "
   ]
  },
  {
   "cell_type": "code",
   "execution_count": 114,
   "metadata": {
    "scrolled": true
   },
   "outputs": [],
   "source": [
    "clusters = calc_hierarchical_clustering(4, jaccard_distances)"
   ]
  },
  {
   "cell_type": "code",
   "execution_count": 115,
   "metadata": {},
   "outputs": [
    {
     "name": "stdout",
     "output_type": "stream",
     "text": [
      "[[0, 1, 3, 6], [2], [4], [5, 7]]\n"
     ]
    }
   ],
   "source": [
    "print clusters"
   ]
  },
  {
   "cell_type": "code",
   "execution_count": null,
   "metadata": {},
   "outputs": [],
   "source": []
  }
 ],
 "metadata": {
  "kernelspec": {
   "display_name": "Python 2",
   "language": "python",
   "name": "python2"
  },
  "language_info": {
   "codemirror_mode": {
    "name": "ipython",
    "version": 2
   },
   "file_extension": ".py",
   "mimetype": "text/x-python",
   "name": "python",
   "nbconvert_exporter": "python",
   "pygments_lexer": "ipython2",
   "version": "2.7.13"
  }
 },
 "nbformat": 4,
 "nbformat_minor": 2
}
