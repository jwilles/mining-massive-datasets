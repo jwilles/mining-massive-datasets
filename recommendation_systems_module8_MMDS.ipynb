{
 "cells": [
  {
   "cell_type": "code",
   "execution_count": 22,
   "metadata": {},
   "outputs": [],
   "source": [
    "import numpy as np\n",
    "import pandas as pd"
   ]
  },
  {
   "cell_type": "code",
   "execution_count": 23,
   "metadata": {},
   "outputs": [],
   "source": [
    "mat = np.matrix([[1,1,0,1,0,0,1,0], [0,1,1,1,0,0,0,0], [0,0,0,1,0,1,1,1]])"
   ]
  },
  {
   "cell_type": "code",
   "execution_count": 38,
   "metadata": {},
   "outputs": [],
   "source": [
    "def calc_jaccard_distance(col1, col2):\n",
    "    col1 = col1.astype(bool)\n",
    "    col2 = col2.astype(bool)\n",
    "    intersection = np.logical_and(col1, col2)\n",
    "    union = np.logical_or(col1, col2)\n",
    "    \n",
    "    return 1 - intersection.sum()/float(union.sum())"
   ]
  },
  {
   "cell_type": "code",
   "execution_count": 1,
   "metadata": {},
   "outputs": [],
   "source": [
    "def hierarchical_clustering(distances):\n",
    "    print('hello world')"
   ]
  },
  {
   "cell_type": "code",
   "execution_count": 39,
   "metadata": {
    "scrolled": false
   },
   "outputs": [
    {
     "name": "stderr",
     "output_type": "stream",
     "text": [
      "c:\\users\\john\\appdata\\local\\programs\\python\\python36\\lib\\site-packages\\ipykernel_launcher.py:7: RuntimeWarning: invalid value encountered in true_divide\n",
      "  import sys\n"
     ]
    }
   ],
   "source": [
    "m, n = mat.shape\n",
    "jaccard_distances = np.zeros((n,n))\n",
    "\n",
    "for i, col1 in enumerate(mat.T):\n",
    "    for j, col2 in enumerate(mat.T):\n",
    "        jaccard_distances[i, j] = calc_jaccard_distance(col1, col2)\n",
    "    "
   ]
  },
  {
   "cell_type": "code",
   "execution_count": 42,
   "metadata": {
    "scrolled": true
   },
   "outputs": [
    {
     "name": "stdout",
     "output_type": "stream",
     "text": [
      "[0.         0.5        1.         0.66666667 1.         1.\n",
      " 0.5        1.        ]\n"
     ]
    }
   ],
   "source": [
    "print(jaccard_distances[0,:])"
   ]
  }
 ],
 "metadata": {
  "kernelspec": {
   "display_name": "Python 3",
   "language": "python",
   "name": "python3"
  },
  "language_info": {
   "codemirror_mode": {
    "name": "ipython",
    "version": 3
   },
   "file_extension": ".py",
   "mimetype": "text/x-python",
   "name": "python",
   "nbconvert_exporter": "python",
   "pygments_lexer": "ipython3",
   "version": "3.6.5"
  }
 },
 "nbformat": 4,
 "nbformat_minor": 2
}
