{
 "cells": [
  {
   "cell_type": "code",
   "execution_count": 1,
   "metadata": {},
   "outputs": [],
   "source": [
    "import numpy as np"
   ]
  },
  {
   "cell_type": "code",
   "execution_count": 4,
   "metadata": {},
   "outputs": [],
   "source": [
    "samples = [\n",
    "    ['A', (0, 0)],\n",
    "    ['B', (10, 10)],\n",
    "    ['C', (21, 21)],\n",
    "    ['D', (33, 33)],\n",
    "    ['E', (5, 27)],\n",
    "    ['F', (28, 6)]\n",
    "]"
   ]
  },
  {
   "cell_type": "code",
   "execution_count": 11,
   "metadata": {},
   "outputs": [],
   "source": [
    "def calc_euclid_distance(x, y):\n",
    "    return np.sqrt((x[1][0]-y[1][0])**2 + (x[1][1]-y[1][1])**2)"
   ]
  },
  {
   "cell_type": "code",
   "execution_count": 23,
   "metadata": {},
   "outputs": [],
   "source": [
    "def calc_cluster_distance(cluster1, cluster2):\n",
    "    max_distance = -1\n",
    "    for k in cluster1:\n",
    "        for l in cluster2:\n",
    "            distance = calc_euclid_distance(k, l)\n",
    "            if distance > max_distance:\n",
    "                max_distance = distance\n",
    "    return max_distance"
   ]
  },
  {
   "cell_type": "code",
   "execution_count": 26,
   "metadata": {},
   "outputs": [],
   "source": [
    "def calc_hierarchical_clustering(samples):\n",
    "    clusters = [[x] for x in samples]\n",
    "    while len(clusters) > 1:\n",
    "        min_distance = 10000\n",
    "        candidate_1 = 100\n",
    "        candidate_2 = 100\n",
    "        for i, cluster1 in enumerate(clusters):\n",
    "            for j, cluster2 in enumerate(clusters):\n",
    "                if i == j:\n",
    "                    continue\n",
    "                distance = calc_cluster_distance(cluster1, cluster2)\n",
    "                if (distance < min_distance):\n",
    "                    min_distance = distance\n",
    "                    candidate_1 = i\n",
    "                    candidate_2 = j\n",
    "                elif (distance == min_distance):\n",
    "                    curr_clusters_agg = clusters[i] + clusters[j]\n",
    "                    candidate_clusters_agg = clusters[candidate_1] + clusters[candidate_2]\n",
    "                    if min(curr_clusters_agg) < min(candidate_clusters_agg):\n",
    "                        candiate_1 = i\n",
    "                        candidate_2 = j\n",
    "                        \n",
    "        clusters[candidate_1] = clusters[candidate_1] + clusters[candidate_2]\n",
    "        clusters.pop(candidate_2)\n",
    "        print '_'*40\n",
    "        for cluster in clusters:\n",
    "            print cluster\n",
    "        \n",
    "    return clusters\n",
    "    "
   ]
  },
  {
   "cell_type": "code",
   "execution_count": 27,
   "metadata": {},
   "outputs": [
    {
     "name": "stdout",
     "output_type": "stream",
     "text": [
      "________________________________________\n",
      "[['A', (0, 0)], ['B', (10, 10)]]\n",
      "[['C', (21, 21)]]\n",
      "[['D', (33, 33)]]\n",
      "[['E', (5, 27)]]\n",
      "[['F', (28, 6)]]\n",
      "________________________________________\n",
      "[['A', (0, 0)], ['B', (10, 10)]]\n",
      "[['C', (21, 21)], ['F', (28, 6)]]\n",
      "[['D', (33, 33)]]\n",
      "[['E', (5, 27)]]\n",
      "________________________________________\n",
      "[['A', (0, 0)], ['B', (10, 10)], ['E', (5, 27)]]\n",
      "[['C', (21, 21)], ['F', (28, 6)]]\n",
      "[['D', (33, 33)]]\n",
      "________________________________________\n",
      "[['A', (0, 0)], ['B', (10, 10)], ['E', (5, 27)]]\n",
      "[['C', (21, 21)], ['F', (28, 6)], ['D', (33, 33)]]\n",
      "________________________________________\n",
      "[['A', (0, 0)], ['B', (10, 10)], ['E', (5, 27)], ['C', (21, 21)], ['F', (28, 6)], ['D', (33, 33)]]\n"
     ]
    }
   ],
   "source": [
    "cluster = calc_hierarchical_clustering(samples)"
   ]
  },
  {
   "cell_type": "code",
   "execution_count": null,
   "metadata": {},
   "outputs": [],
   "source": []
  }
 ],
 "metadata": {
  "kernelspec": {
   "display_name": "Python 2",
   "language": "python",
   "name": "python2"
  },
  "language_info": {
   "codemirror_mode": {
    "name": "ipython",
    "version": 2
   },
   "file_extension": ".py",
   "mimetype": "text/x-python",
   "name": "python",
   "nbconvert_exporter": "python",
   "pygments_lexer": "ipython2",
   "version": "2.7.13"
  }
 },
 "nbformat": 4,
 "nbformat_minor": 2
}
