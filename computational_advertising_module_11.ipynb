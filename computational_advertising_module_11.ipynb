{
 "cells": [
  {
   "cell_type": "code",
   "execution_count": null,
   "metadata": {},
   "outputs": [],
   "source": [
    "class Advertiser:\n",
    "    def __init__(self, name, bid, ctr1, ctr2, ctr3, budget):\n",
    "        self.name = name\n",
    "        self.bid = bid\n",
    "        self.ctr1 = ctr1\n",
    "        self.ctr2 = ctr2\n",
    "        self.ctr3 = ctr3\n",
    "        self.budget = budget\n",
    "        \n",
    "    def expected_yield(self, slot):\n",
    "        return self.bid * self.['ctr' + str(slot)]\n",
    "    \n",
    "\n",
    "        \n",
    "        \n",
    "    "
   ]
  }
 ],
 "metadata": {
  "kernelspec": {
   "display_name": "Python 2",
   "language": "python",
   "name": "python2"
  },
  "language_info": {
   "codemirror_mode": {
    "name": "ipython",
    "version": 2
   },
   "file_extension": ".py",
   "mimetype": "text/x-python",
   "name": "python",
   "nbconvert_exporter": "python",
   "pygments_lexer": "ipython2",
   "version": "2.7.13"
  }
 },
 "nbformat": 4,
 "nbformat_minor": 2
}
