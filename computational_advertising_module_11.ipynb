{
 "cells": [
  {
   "cell_type": "markdown",
   "metadata": {},
   "source": [
    "## MMDS Computational Advertising"
   ]
  },
  {
   "cell_type": "code",
   "execution_count": 168,
   "metadata": {},
   "outputs": [],
   "source": [
    "class Advertiser:\n",
    "    def __init__(self, name, bid, ctr1, ctr2, ctr3, budget):\n",
    "        self.name = name\n",
    "        self.bid = bid\n",
    "        self.ctr1 = ctr1\n",
    "        self.ctr2 = ctr2\n",
    "        self.ctr3 = ctr3\n",
    "        self.budget = budget\n",
    "        \n",
    "    def expected_yield(self, slot):\n",
    "        return self.bid * self.get_ctr_by_slot(slot)\n",
    "    \n",
    "    def get_ctr_by_slot(self, slot):\n",
    "        return getattr(self, 'ctr' + str(slot + 1))\n",
    "    \n",
    "    def total_impressions(self, slot):\n",
    "        return round(self.budget / self.expected_yield(slot))\n",
    "    \n",
    "    def calc_clicks(self, impressions, slot):\n",
    "        return round(impressions * self.get_ctr_by_slot(slot))\n",
    "    \n",
    "    def spend(self, clicks):\n",
    "        self.budget = self.budget - clicks * self.bid"
   ]
  },
  {
   "cell_type": "code",
   "execution_count": 169,
   "metadata": {},
   "outputs": [],
   "source": [
    "def initialize_advertisers():\n",
    "    advertisers = []\n",
    "    advertisers.append(Advertiser('A', 0.1, 0.015, 0.1, 0.005, 1))\n",
    "    advertisers.append(Advertiser('B', 0.09, 0.016, 0.12, 0.006, 2))\n",
    "    advertisers.append(Advertiser('C', 0.08, 0.017, 0.14, 0.007, 3))\n",
    "    advertisers.append(Advertiser('D', 0.07, 0.018, 0.15, 0.008, 4))\n",
    "    advertisers.append(Advertiser('E', 0.06, 0.019, 0.16, 0.010, 5))\n",
    "    \n",
    "    return advertisers"
   ]
  },
  {
   "cell_type": "code",
   "execution_count": 170,
   "metadata": {},
   "outputs": [],
   "source": [
    "def allocate_slots(advertisers):\n",
    "    \n",
    "    slots = []\n",
    "    \n",
    "    for i in range(3):\n",
    "        candidate = advertisers[0]\n",
    "        max_expected_yield = candidate.expected_yield(i)\n",
    "        \n",
    "        for advertiser in advertisers[1:]: \n",
    "            expected_yield = advertiser.expected_yield(i)\n",
    "            if max_expected_yield < expected_yield:\n",
    "                max_expected_yield = expected_yield\n",
    "                candidate = advertiser\n",
    "        \n",
    "        candidate.slot = i\n",
    "        slots.append(candidate)\n",
    "        advertisers.remove(candidate)\n",
    "                \n",
    "    return slots"
   ]
  },
  {
   "cell_type": "code",
   "execution_count": 176,
   "metadata": {},
   "outputs": [],
   "source": [
    "def process_phase(slots, remaining_clicks):\n",
    "    \n",
    "    impressions = [a.total_impressions(a.slot) for a in slots]\n",
    "    min_impressions = min(impressions)\n",
    "    \n",
    "    clicks = [a.calc_clicks(min_impressions, a.slot) for a in slots]\n",
    "    print clicks\n",
    "    print sum(clicks)\n",
    "    \n",
    "    if sum(clicks) < remaining_clicks:\n",
    "        for a in slots:\n",
    "            a.spend(clicks[a.slot])\n",
    "        return clicks, slots\n",
    "    else:\n",
    "        sum_ctr = sum([a.get_ctr_by_slot(a.slot) for a in slots])\n",
    "        clicks = [round(remaining_clicks*(a.get_ctr_by_slot(a.slot)/sum_ctr)) for a in slots]\n",
    "        return clicks, slots\n",
    "        \n",
    "    \n",
    "    "
   ]
  },
  {
   "cell_type": "code",
   "execution_count": 177,
   "metadata": {},
   "outputs": [],
   "source": [
    "advertisers = initialize_advertisers()"
   ]
  },
  {
   "cell_type": "code",
   "execution_count": 178,
   "metadata": {},
   "outputs": [],
   "source": [
    "slots = allocate_slots(advertisers)"
   ]
  },
  {
   "cell_type": "code",
   "execution_count": 179,
   "metadata": {},
   "outputs": [
    {
     "name": "stdout",
     "output_type": "stream",
     "text": [
      "[4.0, 38.0, 3.0]\n",
      "45.0\n"
     ]
    }
   ],
   "source": [
    "clicks, slots = process_phase(slots, 101)"
   ]
  },
  {
   "cell_type": "code",
   "execution_count": 180,
   "metadata": {},
   "outputs": [
    {
     "name": "stdout",
     "output_type": "stream",
     "text": [
      "[4.0, 38.0, 3.0]\n"
     ]
    }
   ],
   "source": [
    "print clicks"
   ]
  },
  {
   "cell_type": "code",
   "execution_count": null,
   "metadata": {},
   "outputs": [],
   "source": []
  }
 ],
 "metadata": {
  "kernelspec": {
   "display_name": "Python 2",
   "language": "python",
   "name": "python2"
  },
  "language_info": {
   "codemirror_mode": {
    "name": "ipython",
    "version": 2
   },
   "file_extension": ".py",
   "mimetype": "text/x-python",
   "name": "python",
   "nbconvert_exporter": "python",
   "pygments_lexer": "ipython2",
   "version": "2.7.13"
  }
 },
 "nbformat": 4,
 "nbformat_minor": 2
}
